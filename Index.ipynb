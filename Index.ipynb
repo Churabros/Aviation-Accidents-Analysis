{
 "cells": [
  {
   "cell_type": "markdown",
   "id": "4d1cc999-3387-4fad-9ef0-b84c94f80472",
   "metadata": {},
   "source": [
    "# Phase 1 Project"
   ]
  },
  {
   "cell_type": "markdown",
   "id": "3fcaf144-6bec-4261-a3d5-b71230949dc6",
   "metadata": {},
   "source": [
    "## Business Understanding"
   ]
  },
  {
   "cell_type": "markdown",
   "id": "7a9b0cc0-ae46-45c0-adbd-fb46acabdde6",
   "metadata": {},
   "source": [
    "#### which aircraft has the lowest risk for a company to start a new business endeavor with?\n",
    "\n",
    "Selecting the right aircraft to start a business is a crucial decision, as choosing an aircraft with a high risk profile can result in operational disruptions, financial losses, and reputational damage. Therefore, it is essential to which aircraft are likely to pose the lowest risk for purchase.\n",
    "\n",
    "in this analysis we will be looking at previous aricrafts accidents to be able to make reccomandations on which aircrafts carry the  lowest risk"
   ]
  },
  {
   "cell_type": "markdown",
   "id": "e2c80a4a-87eb-40c7-a155-3ed4d640b5d1",
   "metadata": {
    "tags": []
   },
   "source": [
    "### Main Objective"
   ]
  },
  {
   "cell_type": "markdown",
   "id": "5bcbf90e-5ca4-4f97-90f4-89560dcb49e6",
   "metadata": {
    "tags": []
   },
   "source": [
    "* Find Which aircraft carries the lowest risk when purchased"
   ]
  },
  {
   "cell_type": "markdown",
   "id": "267a941e-4b38-4d96-b278-1e1d5178b82e",
   "metadata": {},
   "source": [
    "## Data Understanding\n",
    "\n",
    "The Data that was used for this analysis will be pulled from one file \n",
    "\n",
    "`aviaitonData.csv`\n",
    "\n",
    "* **Source**: This dataset can be found in [`kaggle`](https://www.kaggle.com/datasets/khsamaha/aviation-accident-database-synopses/data) which is a platform with thousands of datasets from all sorts of topics \n",
    "* **Contents**: The Data conatns various columns of diffrent information about the aircafts involved in the accident and the locations involved \n",
    "* **Format**: The data is stored in a csv file (comma separated value )"
   ]
  },
  {
   "cell_type": "markdown",
   "id": "7fefc114-d964-4f45-9600-96d64d44073d",
   "metadata": {},
   "source": [
    "First we import the relevant libaries needed for the analysis"
   ]
  },
  {
   "cell_type": "code",
   "execution_count": 118,
   "id": "c6a73119-c29a-40b3-b72e-82f2d1c35cb8",
   "metadata": {
    "tags": []
   },
   "outputs": [],
   "source": [
    "# import all relevant libraries need fot analysis\n",
    "import pandas as pd \n",
    "import numpy as np\n",
    "import matplotlib.pyplot as plt\n",
    "import seaborn as sns\n",
    "import warnings\n",
    "warnings.filterwarnings('ignore')\n",
    "%matplotlib inline"
   ]
  },
  {
   "cell_type": "code",
   "execution_count": null,
   "id": "b11855c0-d3ec-4be6-9f67-2ef6022b61da",
   "metadata": {
    "tags": []
   },
   "outputs": [],
   "source": []
  },
  {
   "cell_type": "code",
   "execution_count": null,
   "id": "aaa71547-a7be-4974-96c5-018223547641",
   "metadata": {},
   "outputs": [],
   "source": []
  },
  {
   "cell_type": "markdown",
   "id": "681869c4-d646-4fb0-8bea-8e07433fb3a0",
   "metadata": {},
   "source": [
    "Read the relevant dataset need for analysis"
   ]
  },
  {
   "cell_type": "code",
   "execution_count": 3,
   "id": "77c2e2fe-be33-4712-b0ac-2ee5fec170c4",
   "metadata": {
    "tags": []
   },
   "outputs": [
    {
     "name": "stderr",
     "output_type": "stream",
     "text": [
      "/var/folders/7t/vyxz37tj3n34ncjhhzlfg_p40000gp/T/ipykernel_5119/1956712043.py:2: DtypeWarning: Columns (6,7,28) have mixed types. Specify dtype option on import or set low_memory=False.\n",
      "  df = pd.read_csv('./AviationData 2.csv')\n"
     ]
    }
   ],
   "source": [
    "# read the CSV file\n",
    "df = pd.read_csv('./AviationData 2.csv')\n"
   ]
  },
  {
   "cell_type": "markdown",
   "id": "9f42cc7e-660f-4ba7-a423-a276d2f1353c",
   "metadata": {},
   "source": [
    "## Data Exploration\n",
    "\n",
    "We will have to look at various aspects of the dataset to have a better understaning of it to see what can help us in the analysis"
   ]
  },
  {
   "cell_type": "markdown",
   "id": "278494d7-b0e6-490a-b0d1-0a5ceb7eed96",
   "metadata": {},
   "source": [
    "First thing is to find number of rows and columns in the dataset "
   ]
  },
  {
   "cell_type": "code",
   "execution_count": 6,
   "id": "3159eb83-c87c-4ae8-96c3-0b4e0d16c34e",
   "metadata": {
    "tags": []
   },
   "outputs": [
    {
     "name": "stdout",
     "output_type": "stream",
     "text": [
      "Number of rows:  88889\n",
      "Number of Columns:  31\n"
     ]
    }
   ],
   "source": [
    "#Finding out how many rows and columns there are in the dataset before cleaning\n",
    "df.shape\n",
    "print(\"Number of rows: \", df.shape[0])\n",
    "print(\"Number of Columns: \", df.shape[1])"
   ]
  },
  {
   "cell_type": "markdown",
   "id": "a1ae1b47-5fd9-406c-9d37-9c5391e21fe2",
   "metadata": {},
   "source": [
    "we then preview the top and the bottom of the dataset "
   ]
  },
  {
   "cell_type": "code",
   "execution_count": 8,
   "id": "da16ee8e-1a76-4723-bbd0-bb595779c6b2",
   "metadata": {
    "tags": []
   },
   "outputs": [
    {
     "data": {
      "text/html": [
       "<div>\n",
       "<style scoped>\n",
       "    .dataframe tbody tr th:only-of-type {\n",
       "        vertical-align: middle;\n",
       "    }\n",
       "\n",
       "    .dataframe tbody tr th {\n",
       "        vertical-align: top;\n",
       "    }\n",
       "\n",
       "    .dataframe thead th {\n",
       "        text-align: right;\n",
       "    }\n",
       "</style>\n",
       "<table border=\"1\" class=\"dataframe\">\n",
       "  <thead>\n",
       "    <tr style=\"text-align: right;\">\n",
       "      <th></th>\n",
       "      <th>Event.Id</th>\n",
       "      <th>Investigation.Type</th>\n",
       "      <th>Accident.Number</th>\n",
       "      <th>Event.Date</th>\n",
       "      <th>Location</th>\n",
       "      <th>Country</th>\n",
       "      <th>Latitude</th>\n",
       "      <th>Longitude</th>\n",
       "      <th>Airport.Code</th>\n",
       "      <th>Airport.Name</th>\n",
       "      <th>...</th>\n",
       "      <th>Purpose.of.flight</th>\n",
       "      <th>Air.carrier</th>\n",
       "      <th>Total.Fatal.Injuries</th>\n",
       "      <th>Total.Serious.Injuries</th>\n",
       "      <th>Total.Minor.Injuries</th>\n",
       "      <th>Total.Uninjured</th>\n",
       "      <th>Weather.Condition</th>\n",
       "      <th>Broad.phase.of.flight</th>\n",
       "      <th>Report.Status</th>\n",
       "      <th>Publication.Date</th>\n",
       "    </tr>\n",
       "  </thead>\n",
       "  <tbody>\n",
       "    <tr>\n",
       "      <th>88884</th>\n",
       "      <td>2.02212E+13</td>\n",
       "      <td>Accident</td>\n",
       "      <td>ERA23LA093</td>\n",
       "      <td>26/12/2022</td>\n",
       "      <td>Annapolis, MD</td>\n",
       "      <td>United States</td>\n",
       "      <td>NaN</td>\n",
       "      <td>NaN</td>\n",
       "      <td>NaN</td>\n",
       "      <td>NaN</td>\n",
       "      <td>...</td>\n",
       "      <td>Personal</td>\n",
       "      <td>NaN</td>\n",
       "      <td>0.0</td>\n",
       "      <td>1.0</td>\n",
       "      <td>0.0</td>\n",
       "      <td>0.0</td>\n",
       "      <td>NaN</td>\n",
       "      <td>NaN</td>\n",
       "      <td>NaN</td>\n",
       "      <td>29/12/2022</td>\n",
       "    </tr>\n",
       "    <tr>\n",
       "      <th>88885</th>\n",
       "      <td>2.02212E+13</td>\n",
       "      <td>Accident</td>\n",
       "      <td>ERA23LA095</td>\n",
       "      <td>26/12/2022</td>\n",
       "      <td>Hampton, NH</td>\n",
       "      <td>United States</td>\n",
       "      <td>NaN</td>\n",
       "      <td>NaN</td>\n",
       "      <td>NaN</td>\n",
       "      <td>NaN</td>\n",
       "      <td>...</td>\n",
       "      <td>NaN</td>\n",
       "      <td>NaN</td>\n",
       "      <td>0.0</td>\n",
       "      <td>0.0</td>\n",
       "      <td>0.0</td>\n",
       "      <td>0.0</td>\n",
       "      <td>NaN</td>\n",
       "      <td>NaN</td>\n",
       "      <td>NaN</td>\n",
       "      <td>NaN</td>\n",
       "    </tr>\n",
       "    <tr>\n",
       "      <th>88886</th>\n",
       "      <td>2.02212E+13</td>\n",
       "      <td>Accident</td>\n",
       "      <td>WPR23LA075</td>\n",
       "      <td>26/12/2022</td>\n",
       "      <td>Payson, AZ</td>\n",
       "      <td>United States</td>\n",
       "      <td>341525N</td>\n",
       "      <td>1112021W</td>\n",
       "      <td>PAN</td>\n",
       "      <td>PAYSON</td>\n",
       "      <td>...</td>\n",
       "      <td>Personal</td>\n",
       "      <td>NaN</td>\n",
       "      <td>0.0</td>\n",
       "      <td>0.0</td>\n",
       "      <td>0.0</td>\n",
       "      <td>1.0</td>\n",
       "      <td>VMC</td>\n",
       "      <td>NaN</td>\n",
       "      <td>NaN</td>\n",
       "      <td>27/12/2022</td>\n",
       "    </tr>\n",
       "    <tr>\n",
       "      <th>88887</th>\n",
       "      <td>2.02212E+13</td>\n",
       "      <td>Accident</td>\n",
       "      <td>WPR23LA076</td>\n",
       "      <td>26/12/2022</td>\n",
       "      <td>Morgan, UT</td>\n",
       "      <td>United States</td>\n",
       "      <td>NaN</td>\n",
       "      <td>NaN</td>\n",
       "      <td>NaN</td>\n",
       "      <td>NaN</td>\n",
       "      <td>...</td>\n",
       "      <td>Personal</td>\n",
       "      <td>MC CESSNA 210N LLC</td>\n",
       "      <td>0.0</td>\n",
       "      <td>0.0</td>\n",
       "      <td>0.0</td>\n",
       "      <td>0.0</td>\n",
       "      <td>NaN</td>\n",
       "      <td>NaN</td>\n",
       "      <td>NaN</td>\n",
       "      <td>NaN</td>\n",
       "    </tr>\n",
       "    <tr>\n",
       "      <th>88888</th>\n",
       "      <td>2.02212E+13</td>\n",
       "      <td>Accident</td>\n",
       "      <td>ERA23LA097</td>\n",
       "      <td>29/12/2022</td>\n",
       "      <td>Athens, GA</td>\n",
       "      <td>United States</td>\n",
       "      <td>NaN</td>\n",
       "      <td>NaN</td>\n",
       "      <td>NaN</td>\n",
       "      <td>NaN</td>\n",
       "      <td>...</td>\n",
       "      <td>Personal</td>\n",
       "      <td>NaN</td>\n",
       "      <td>0.0</td>\n",
       "      <td>1.0</td>\n",
       "      <td>0.0</td>\n",
       "      <td>1.0</td>\n",
       "      <td>NaN</td>\n",
       "      <td>NaN</td>\n",
       "      <td>NaN</td>\n",
       "      <td>30/12/2022</td>\n",
       "    </tr>\n",
       "  </tbody>\n",
       "</table>\n",
       "<p>5 rows × 31 columns</p>\n",
       "</div>"
      ],
      "text/plain": [
       "          Event.Id Investigation.Type Accident.Number  Event.Date  \\\n",
       "88884  2.02212E+13           Accident      ERA23LA093  26/12/2022   \n",
       "88885  2.02212E+13           Accident      ERA23LA095  26/12/2022   \n",
       "88886  2.02212E+13           Accident      WPR23LA075  26/12/2022   \n",
       "88887  2.02212E+13           Accident      WPR23LA076  26/12/2022   \n",
       "88888  2.02212E+13           Accident      ERA23LA097  29/12/2022   \n",
       "\n",
       "            Location        Country Latitude Longitude Airport.Code  \\\n",
       "88884  Annapolis, MD  United States      NaN       NaN          NaN   \n",
       "88885    Hampton, NH  United States      NaN       NaN          NaN   \n",
       "88886     Payson, AZ  United States  341525N  1112021W          PAN   \n",
       "88887     Morgan, UT  United States      NaN       NaN          NaN   \n",
       "88888     Athens, GA  United States      NaN       NaN          NaN   \n",
       "\n",
       "      Airport.Name  ... Purpose.of.flight         Air.carrier  \\\n",
       "88884          NaN  ...          Personal                 NaN   \n",
       "88885          NaN  ...               NaN                 NaN   \n",
       "88886       PAYSON  ...          Personal                 NaN   \n",
       "88887          NaN  ...          Personal  MC CESSNA 210N LLC   \n",
       "88888          NaN  ...          Personal                 NaN   \n",
       "\n",
       "      Total.Fatal.Injuries Total.Serious.Injuries Total.Minor.Injuries  \\\n",
       "88884                  0.0                    1.0                  0.0   \n",
       "88885                  0.0                    0.0                  0.0   \n",
       "88886                  0.0                    0.0                  0.0   \n",
       "88887                  0.0                    0.0                  0.0   \n",
       "88888                  0.0                    1.0                  0.0   \n",
       "\n",
       "      Total.Uninjured Weather.Condition  Broad.phase.of.flight Report.Status  \\\n",
       "88884             0.0               NaN                    NaN           NaN   \n",
       "88885             0.0               NaN                    NaN           NaN   \n",
       "88886             1.0               VMC                    NaN           NaN   \n",
       "88887             0.0               NaN                    NaN           NaN   \n",
       "88888             1.0               NaN                    NaN           NaN   \n",
       "\n",
       "      Publication.Date  \n",
       "88884       29/12/2022  \n",
       "88885              NaN  \n",
       "88886       27/12/2022  \n",
       "88887              NaN  \n",
       "88888       30/12/2022  \n",
       "\n",
       "[5 rows x 31 columns]"
      ]
     },
     "execution_count": 8,
     "metadata": {},
     "output_type": "execute_result"
    }
   ],
   "source": [
    "# looking at the last 5 rows of the data set \n",
    "df.tail()"
   ]
  },
  {
   "cell_type": "code",
   "execution_count": 9,
   "id": "3696cdea-1a8f-4879-b127-6c9e0a4c82df",
   "metadata": {
    "tags": []
   },
   "outputs": [
    {
     "data": {
      "text/html": [
       "<div>\n",
       "<style scoped>\n",
       "    .dataframe tbody tr th:only-of-type {\n",
       "        vertical-align: middle;\n",
       "    }\n",
       "\n",
       "    .dataframe tbody tr th {\n",
       "        vertical-align: top;\n",
       "    }\n",
       "\n",
       "    .dataframe thead th {\n",
       "        text-align: right;\n",
       "    }\n",
       "</style>\n",
       "<table border=\"1\" class=\"dataframe\">\n",
       "  <thead>\n",
       "    <tr style=\"text-align: right;\">\n",
       "      <th></th>\n",
       "      <th>Event.Id</th>\n",
       "      <th>Investigation.Type</th>\n",
       "      <th>Accident.Number</th>\n",
       "      <th>Event.Date</th>\n",
       "      <th>Location</th>\n",
       "      <th>Country</th>\n",
       "      <th>Latitude</th>\n",
       "      <th>Longitude</th>\n",
       "      <th>Airport.Code</th>\n",
       "      <th>Airport.Name</th>\n",
       "      <th>...</th>\n",
       "      <th>Purpose.of.flight</th>\n",
       "      <th>Air.carrier</th>\n",
       "      <th>Total.Fatal.Injuries</th>\n",
       "      <th>Total.Serious.Injuries</th>\n",
       "      <th>Total.Minor.Injuries</th>\n",
       "      <th>Total.Uninjured</th>\n",
       "      <th>Weather.Condition</th>\n",
       "      <th>Broad.phase.of.flight</th>\n",
       "      <th>Report.Status</th>\n",
       "      <th>Publication.Date</th>\n",
       "    </tr>\n",
       "  </thead>\n",
       "  <tbody>\n",
       "    <tr>\n",
       "      <th>0</th>\n",
       "      <td>20001218X45444</td>\n",
       "      <td>Accident</td>\n",
       "      <td>SEA87LA080</td>\n",
       "      <td>24/10/1948</td>\n",
       "      <td>MOOSE CREEK, ID</td>\n",
       "      <td>United States</td>\n",
       "      <td>NaN</td>\n",
       "      <td>NaN</td>\n",
       "      <td>NaN</td>\n",
       "      <td>NaN</td>\n",
       "      <td>...</td>\n",
       "      <td>Personal</td>\n",
       "      <td>NaN</td>\n",
       "      <td>2.0</td>\n",
       "      <td>0.0</td>\n",
       "      <td>0.0</td>\n",
       "      <td>0.0</td>\n",
       "      <td>UNK</td>\n",
       "      <td>Cruise</td>\n",
       "      <td>Probable Cause</td>\n",
       "      <td>NaN</td>\n",
       "    </tr>\n",
       "    <tr>\n",
       "      <th>1</th>\n",
       "      <td>20001218X45447</td>\n",
       "      <td>Accident</td>\n",
       "      <td>LAX94LA336</td>\n",
       "      <td>19/07/1962</td>\n",
       "      <td>BRIDGEPORT, CA</td>\n",
       "      <td>United States</td>\n",
       "      <td>NaN</td>\n",
       "      <td>NaN</td>\n",
       "      <td>NaN</td>\n",
       "      <td>NaN</td>\n",
       "      <td>...</td>\n",
       "      <td>Personal</td>\n",
       "      <td>NaN</td>\n",
       "      <td>4.0</td>\n",
       "      <td>0.0</td>\n",
       "      <td>0.0</td>\n",
       "      <td>0.0</td>\n",
       "      <td>UNK</td>\n",
       "      <td>Unknown</td>\n",
       "      <td>Probable Cause</td>\n",
       "      <td>19/09/1996</td>\n",
       "    </tr>\n",
       "    <tr>\n",
       "      <th>2</th>\n",
       "      <td>20061025X01555</td>\n",
       "      <td>Accident</td>\n",
       "      <td>NYC07LA005</td>\n",
       "      <td>30/08/1974</td>\n",
       "      <td>Saltville, VA</td>\n",
       "      <td>United States</td>\n",
       "      <td>36.922223</td>\n",
       "      <td>-81.878056</td>\n",
       "      <td>NaN</td>\n",
       "      <td>NaN</td>\n",
       "      <td>...</td>\n",
       "      <td>Personal</td>\n",
       "      <td>NaN</td>\n",
       "      <td>3.0</td>\n",
       "      <td>NaN</td>\n",
       "      <td>NaN</td>\n",
       "      <td>NaN</td>\n",
       "      <td>IMC</td>\n",
       "      <td>Cruise</td>\n",
       "      <td>Probable Cause</td>\n",
       "      <td>26/02/2007</td>\n",
       "    </tr>\n",
       "    <tr>\n",
       "      <th>3</th>\n",
       "      <td>20001218X45448</td>\n",
       "      <td>Accident</td>\n",
       "      <td>LAX96LA321</td>\n",
       "      <td>19/06/1977</td>\n",
       "      <td>EUREKA, CA</td>\n",
       "      <td>United States</td>\n",
       "      <td>NaN</td>\n",
       "      <td>NaN</td>\n",
       "      <td>NaN</td>\n",
       "      <td>NaN</td>\n",
       "      <td>...</td>\n",
       "      <td>Personal</td>\n",
       "      <td>NaN</td>\n",
       "      <td>2.0</td>\n",
       "      <td>0.0</td>\n",
       "      <td>0.0</td>\n",
       "      <td>0.0</td>\n",
       "      <td>IMC</td>\n",
       "      <td>Cruise</td>\n",
       "      <td>Probable Cause</td>\n",
       "      <td>12/09/2000</td>\n",
       "    </tr>\n",
       "    <tr>\n",
       "      <th>4</th>\n",
       "      <td>20041105X01764</td>\n",
       "      <td>Accident</td>\n",
       "      <td>CHI79FA064</td>\n",
       "      <td>02/08/1979</td>\n",
       "      <td>Canton, OH</td>\n",
       "      <td>United States</td>\n",
       "      <td>NaN</td>\n",
       "      <td>NaN</td>\n",
       "      <td>NaN</td>\n",
       "      <td>NaN</td>\n",
       "      <td>...</td>\n",
       "      <td>Personal</td>\n",
       "      <td>NaN</td>\n",
       "      <td>1.0</td>\n",
       "      <td>2.0</td>\n",
       "      <td>NaN</td>\n",
       "      <td>0.0</td>\n",
       "      <td>VMC</td>\n",
       "      <td>Approach</td>\n",
       "      <td>Probable Cause</td>\n",
       "      <td>16/04/1980</td>\n",
       "    </tr>\n",
       "  </tbody>\n",
       "</table>\n",
       "<p>5 rows × 31 columns</p>\n",
       "</div>"
      ],
      "text/plain": [
       "         Event.Id Investigation.Type Accident.Number  Event.Date  \\\n",
       "0  20001218X45444           Accident      SEA87LA080  24/10/1948   \n",
       "1  20001218X45447           Accident      LAX94LA336  19/07/1962   \n",
       "2  20061025X01555           Accident      NYC07LA005  30/08/1974   \n",
       "3  20001218X45448           Accident      LAX96LA321  19/06/1977   \n",
       "4  20041105X01764           Accident      CHI79FA064  02/08/1979   \n",
       "\n",
       "          Location        Country   Latitude  Longitude Airport.Code  \\\n",
       "0  MOOSE CREEK, ID  United States        NaN        NaN          NaN   \n",
       "1   BRIDGEPORT, CA  United States        NaN        NaN          NaN   \n",
       "2    Saltville, VA  United States  36.922223 -81.878056          NaN   \n",
       "3       EUREKA, CA  United States        NaN        NaN          NaN   \n",
       "4       Canton, OH  United States        NaN        NaN          NaN   \n",
       "\n",
       "  Airport.Name  ... Purpose.of.flight Air.carrier Total.Fatal.Injuries  \\\n",
       "0          NaN  ...          Personal         NaN                  2.0   \n",
       "1          NaN  ...          Personal         NaN                  4.0   \n",
       "2          NaN  ...          Personal         NaN                  3.0   \n",
       "3          NaN  ...          Personal         NaN                  2.0   \n",
       "4          NaN  ...          Personal         NaN                  1.0   \n",
       "\n",
       "  Total.Serious.Injuries Total.Minor.Injuries Total.Uninjured  \\\n",
       "0                    0.0                  0.0             0.0   \n",
       "1                    0.0                  0.0             0.0   \n",
       "2                    NaN                  NaN             NaN   \n",
       "3                    0.0                  0.0             0.0   \n",
       "4                    2.0                  NaN             0.0   \n",
       "\n",
       "  Weather.Condition  Broad.phase.of.flight   Report.Status Publication.Date  \n",
       "0               UNK                 Cruise  Probable Cause              NaN  \n",
       "1               UNK                Unknown  Probable Cause       19/09/1996  \n",
       "2               IMC                 Cruise  Probable Cause       26/02/2007  \n",
       "3               IMC                 Cruise  Probable Cause       12/09/2000  \n",
       "4               VMC               Approach  Probable Cause       16/04/1980  \n",
       "\n",
       "[5 rows x 31 columns]"
      ]
     },
     "execution_count": 9,
     "metadata": {},
     "output_type": "execute_result"
    }
   ],
   "source": [
    "#looking at the first 5 rows of the data set\n",
    "df.head()"
   ]
  },
  {
   "cell_type": "markdown",
   "id": "f2e7c14a-8440-468a-b619-6560ccd5662f",
   "metadata": {},
   "source": [
    "we then need to find out the information about the data set to check if any columns contain null values and if the data types are what want them to be "
   ]
  },
  {
   "cell_type": "code",
   "execution_count": 11,
   "id": "d0e8b3ce-36cf-4ac1-ab79-a9d19f678791",
   "metadata": {
    "tags": []
   },
   "outputs": [
    {
     "name": "stdout",
     "output_type": "stream",
     "text": [
      "<class 'pandas.core.frame.DataFrame'>\n",
      "RangeIndex: 88889 entries, 0 to 88888\n",
      "Data columns (total 31 columns):\n",
      " #   Column                  Non-Null Count  Dtype  \n",
      "---  ------                  --------------  -----  \n",
      " 0   Event.Id                88889 non-null  object \n",
      " 1   Investigation.Type      88889 non-null  object \n",
      " 2   Accident.Number         88889 non-null  object \n",
      " 3   Event.Date              88889 non-null  object \n",
      " 4   Location                88837 non-null  object \n",
      " 5   Country                 88663 non-null  object \n",
      " 6   Latitude                34382 non-null  object \n",
      " 7   Longitude               34373 non-null  object \n",
      " 8   Airport.Code            50132 non-null  object \n",
      " 9   Airport.Name            52704 non-null  object \n",
      " 10  Injury.Severity         87889 non-null  object \n",
      " 11  Aircraft.damage         85695 non-null  object \n",
      " 12  Aircraft.Category       32287 non-null  object \n",
      " 13  Registration.Number     87507 non-null  object \n",
      " 14  Make                    88826 non-null  object \n",
      " 15  Model                   88797 non-null  object \n",
      " 16  Amateur.Built           88787 non-null  object \n",
      " 17  Number.of.Engines       82805 non-null  float64\n",
      " 18  Engine.Type             81793 non-null  object \n",
      " 19  FAR.Description         32023 non-null  object \n",
      " 20  Schedule                12582 non-null  object \n",
      " 21  Purpose.of.flight       82697 non-null  object \n",
      " 22  Air.carrier             16648 non-null  object \n",
      " 23  Total.Fatal.Injuries    77488 non-null  float64\n",
      " 24  Total.Serious.Injuries  76379 non-null  float64\n",
      " 25  Total.Minor.Injuries    76956 non-null  float64\n",
      " 26  Total.Uninjured         82977 non-null  float64\n",
      " 27  Weather.Condition       84397 non-null  object \n",
      " 28  Broad.phase.of.flight   61724 non-null  object \n",
      " 29  Report.Status           82505 non-null  object \n",
      " 30  Publication.Date        75118 non-null  object \n",
      "dtypes: float64(5), object(26)\n",
      "memory usage: 21.0+ MB\n"
     ]
    }
   ],
   "source": [
    "#fining out the ifnormation of each columns\n",
    "df.info()"
   ]
  },
  {
   "cell_type": "markdown",
   "id": "5b21f7b1-a449-4369-949b-e0fdae1aadfd",
   "metadata": {},
   "source": [
    "As shown above we can observe that many columns contain null values and some of the columns datatypes will have to be chamged later on "
   ]
  },
  {
   "cell_type": "markdown",
   "id": "db3f63a0-2ea4-407f-8ead-fdcc67775256",
   "metadata": {
    "tags": []
   },
   "source": [
    "## Data Wrangling"
   ]
  },
  {
   "cell_type": "markdown",
   "id": "9c46bb9d-86dc-4702-8819-38964ac33ae9",
   "metadata": {
    "tags": []
   },
   "source": [
    "### Consintancy"
   ]
  },
  {
   "cell_type": "code",
   "execution_count": 15,
   "id": "a2c5e805-a292-4754-b2eb-74f1340e4347",
   "metadata": {
    "tags": []
   },
   "outputs": [],
   "source": [
    "#creating a list of of columns that need to be dropped \n",
    "columns_to_drop = [\n",
    "    'Investigation.Type', 'Accident.Number',\n",
    "    'Location', 'Country', 'Latitude', 'Longitude', 'Airport.Code',\n",
    "    'Airport.Name', 'Registration.Number', 'Schedule', 'Air.carrier', 'Purpose.of.flight',\n",
    "    'Amateur.Built','Injury.Severity','Weather.Condition','FAR.Description','Publication.Date','Report.Status'\n",
    "]\n",
    "#dropping the columns\n",
    "df = df.drop(columns=columns_to_drop)"
   ]
  },
  {
   "cell_type": "markdown",
   "id": "a574b7e4-8e76-4b38-85d7-3d6292aa89d2",
   "metadata": {
    "tags": []
   },
   "source": [
    "The above columns were dropped since they contain infromation that is irrelevant, redundant or unnecessary  not needed in the analysis process"
   ]
  },
  {
   "cell_type": "markdown",
   "id": "3da7b8ee-b9ab-467a-af71-e8a172701c7a",
   "metadata": {},
   "source": [
    "#### Duplicates"
   ]
  },
  {
   "cell_type": "markdown",
   "id": "7ac7f9cf-f427-464d-aee7-1225578e93d1",
   "metadata": {},
   "source": [
    "It is important to remove duplicates to maintain data quality and consitency during analysis "
   ]
  },
  {
   "cell_type": "code",
   "execution_count": 19,
   "id": "4b2eb8e8-2384-4781-ac38-3fd03672d513",
   "metadata": {
    "tags": []
   },
   "outputs": [
    {
     "data": {
      "text/plain": [
       "34"
      ]
     },
     "execution_count": 19,
     "metadata": {},
     "output_type": "execute_result"
    }
   ],
   "source": [
    "#Checking for duplicates \n",
    "df.duplicated().sum()"
   ]
  },
  {
   "cell_type": "markdown",
   "id": "f3892de9-4557-4dda-9022-09690a220e09",
   "metadata": {},
   "source": [
    "As seen above there is 103 rows of duplicates which need to be dropped"
   ]
  },
  {
   "cell_type": "code",
   "execution_count": 21,
   "id": "d3f461ac-befc-4a0e-9756-ec887a16cdee",
   "metadata": {
    "tags": []
   },
   "outputs": [
    {
     "data": {
      "text/plain": [
       "0"
      ]
     },
     "execution_count": 21,
     "metadata": {},
     "output_type": "execute_result"
    }
   ],
   "source": [
    "#dropping the duplicates\n",
    "df =df.drop_duplicates()\n",
    "df.duplicated().sum()"
   ]
  },
  {
   "cell_type": "markdown",
   "id": "c2cdb6e2-23d9-4ce7-9f05-ced4c183321f",
   "metadata": {},
   "source": [
    "The `Make` Column may need to be investigated for cassing issues"
   ]
  },
  {
   "cell_type": "code",
   "execution_count": 23,
   "id": "92801c42-d090-4dcc-b8e7-98d5915a4076",
   "metadata": {
    "tags": []
   },
   "outputs": [
    {
     "data": {
      "text/plain": [
       "Make\n",
       "Cessna             22220\n",
       "Piper              12028\n",
       "CESSNA              4920\n",
       "Beech               4330\n",
       "PIPER               2841\n",
       "                   ...  \n",
       "Leonard Walters        1\n",
       "Maule Air Inc.         1\n",
       "Motley Vans            1\n",
       "Perlick                1\n",
       "ROYSE RALPH L          1\n",
       "Name: count, Length: 8237, dtype: int64"
      ]
     },
     "execution_count": 23,
     "metadata": {},
     "output_type": "execute_result"
    }
   ],
   "source": [
    "#lisiting the uniwue make rows and number of times they appear\n",
    "df['Make'].value_counts()"
   ]
  },
  {
   "cell_type": "markdown",
   "id": "03669de2-e16e-462a-a3d0-5401e3059618",
   "metadata": {
    "tags": []
   },
   "source": [
    "### Completeness"
   ]
  },
  {
   "cell_type": "markdown",
   "id": "ace65173-fd81-4281-8284-afbdcad229b3",
   "metadata": {},
   "source": [
    "As seen above in the `Make` column there seems to be some inconsitency in the casing in the values which may make our analysis inaccurate"
   ]
  },
  {
   "cell_type": "code",
   "execution_count": 61,
   "id": "b9d238f1-4de6-4bc2-b6a5-0be751b88ceb",
   "metadata": {
    "tags": []
   },
   "outputs": [],
   "source": [
    "#converting all Make values to lower case\n",
    "df[\"Make\"] = df[\"Make\"].str.lower()"
   ]
  },
  {
   "cell_type": "markdown",
   "id": "9191df01-a5ed-4842-9922-bc7d55fe85c8",
   "metadata": {},
   "source": [
    "Finding and dealing with rows with null values in nessesery for proper analysis"
   ]
  },
  {
   "cell_type": "code",
   "execution_count": 28,
   "id": "91613c95-643b-4a34-9002-866f8d5bad6b",
   "metadata": {},
   "outputs": [
    {
     "data": {
      "text/plain": [
       "Event.Id                      0\n",
       "Event.Date                    0\n",
       "Aircraft.damage            3191\n",
       "Aircraft.Category         56577\n",
       "Make                         63\n",
       "Model                        92\n",
       "Number.of.Engines          6081\n",
       "Engine.Type                7094\n",
       "Total.Fatal.Injuries      11398\n",
       "Total.Serious.Injuries    12503\n",
       "Total.Minor.Injuries      11926\n",
       "Total.Uninjured            5908\n",
       "Broad.phase.of.flight     27160\n",
       "dtype: int64"
      ]
     },
     "execution_count": 28,
     "metadata": {},
     "output_type": "execute_result"
    }
   ],
   "source": [
    "#finding out the number of duplicates each column has \n",
    "df.isna().sum()"
   ]
  },
  {
   "cell_type": "code",
   "execution_count": 29,
   "id": "df1418da-0df5-44fb-82ef-c7c2604b00e8",
   "metadata": {
    "tags": []
   },
   "outputs": [
    {
     "data": {
      "text/plain": [
       "Event.Id                   0.000000\n",
       "Event.Date                 0.000000\n",
       "Aircraft.damage            3.591244\n",
       "Aircraft.Category         63.673400\n",
       "Make                       0.070902\n",
       "Model                      0.103539\n",
       "Number.of.Engines          6.843734\n",
       "Engine.Type                7.983794\n",
       "Total.Fatal.Injuries      12.827641\n",
       "Total.Serious.Injuries    14.071240\n",
       "Total.Minor.Injuries      13.421867\n",
       "Total.Uninjured            6.649035\n",
       "Broad.phase.of.flight     30.566654\n",
       "dtype: float64"
      ]
     },
     "execution_count": 29,
     "metadata": {},
     "output_type": "execute_result"
    }
   ],
   "source": [
    "#finding out the percentage of duplicates each column has \n",
    "df.isna().mean()*100"
   ]
  },
  {
   "cell_type": "markdown",
   "id": "6d417b10-c324-436f-8cee-c8fd211154b4",
   "metadata": {},
   "source": [
    "As seen above most rows contain null values\n",
    "\n",
    "espesially in the `Aircraft.category` column where it will not be advisable to drop the rows since the percentage of null rows is very significant and the columns should not be dropped since the information is relevant to the analysis the best path to take in this situation is to use the mode to fill in the null values since both columns are categorical data and the mode value appears more than 70% of the time"
   ]
  },
  {
   "cell_type": "code",
   "execution_count": 31,
   "id": "c038437a-37aa-4888-ae53-b612c98ae718",
   "metadata": {
    "tags": []
   },
   "outputs": [
    {
     "data": {
      "text/plain": [
       "<bound method NDFrame._add_numeric_operations.<locals>.mean of Aircraft.Category\n",
       "Airplane             27610\n",
       "Helicopter            3438\n",
       "Glider                 508\n",
       "Balloon                231\n",
       "Gyrocraft              173\n",
       "Weight-Shift           161\n",
       "Powered Parachute       91\n",
       "Ultralight              30\n",
       "Unknown                 14\n",
       "WSFT                     9\n",
       "Powered-Lift             5\n",
       "Blimp                    4\n",
       "UNK                      2\n",
       "Rocket                   1\n",
       "ULTR                     1\n",
       "Name: count, dtype: int64>"
      ]
     },
     "execution_count": 31,
     "metadata": {},
     "output_type": "execute_result"
    }
   ],
   "source": [
    "df['Aircraft.Category'].value_counts().mean"
   ]
  },
  {
   "cell_type": "code",
   "execution_count": null,
   "id": "16b550d6-ede8-4c9a-805a-ada1100ec804",
   "metadata": {},
   "outputs": [],
   "source": []
  },
  {
   "cell_type": "code",
   "execution_count": 32,
   "id": "b25c4c56-1525-424e-a042-f077e0f79f3d",
   "metadata": {
    "tags": []
   },
   "outputs": [],
   "source": [
    "df['Aircraft.Category'].fillna(df['Aircraft.Category'].mode()[0], inplace=True)\n"
   ]
  },
  {
   "cell_type": "markdown",
   "id": "4041e5c0-6617-4cbb-bba6-5102abb260d8",
   "metadata": {},
   "source": [
    "The null values in `Aircarft.damage`,`Make`,`Model`,`Broad.phase.of.flight` will be replaced with unknown which allows us to keep most of the information without keeping null values"
   ]
  },
  {
   "cell_type": "code",
   "execution_count": 34,
   "id": "3efcbc3c-faa5-4350-9f4f-7bacad50cbcc",
   "metadata": {
    "tags": []
   },
   "outputs": [],
   "source": [
    "df['Aircraft.damage'].replace({np.nan: 'Unknown'}, inplace=True)\n",
    "df['Make'].replace({np.nan: 'Unknown'}, inplace=True)\n",
    "df['Model'].replace({np.nan: 'Unknown'}, inplace=True)\n",
    "df['Broad.phase.of.flight'].replace({np.nan: 'UNKNOWN'}, inplace=True)"
   ]
  },
  {
   "cell_type": "markdown",
   "id": "c06cafe2-1649-4641-afc8-d6c0385e5e63",
   "metadata": {},
   "source": [
    "The null values in columns`Total.Fatal.Injuries`,`Total.minor.Injuries`,`Total.serious.Injuries`,`Total.uninjured.Injuries`will be replaced with 0 value which allows as to perform calculations "
   ]
  },
  {
   "cell_type": "code",
   "execution_count": 36,
   "id": "b59ed382-c447-4428-bc5c-510c5388a4b5",
   "metadata": {
    "tags": []
   },
   "outputs": [],
   "source": [
    "df['Total.Fatal.Injuries'].replace({np.nan: 0}, inplace=True)\n",
    "df['Total.Serious.Injuries'].replace({np.nan: 0}, inplace=True)\n",
    "df['Total.Minor.Injuries'].replace({np.nan: 0}, inplace=True)\n",
    "df['Total.Uninjured'].replace({np.nan: 0}, inplace=True)"
   ]
  },
  {
   "cell_type": "markdown",
   "id": "336c29c6-e39d-4baa-9b46-c70a9617ad34",
   "metadata": {},
   "source": [
    "The rest of the Null values will then be dropped since there few in number and will not have an effect on the final analysis"
   ]
  },
  {
   "cell_type": "code",
   "execution_count": 38,
   "id": "99d56075-dfb9-4199-8de8-c19df505c1f4",
   "metadata": {
    "tags": []
   },
   "outputs": [],
   "source": [
    "df = df.dropna()"
   ]
  },
  {
   "cell_type": "code",
   "execution_count": 39,
   "id": "daa1e673-0543-4e0b-a35f-22b8a6444117",
   "metadata": {},
   "outputs": [
    {
     "data": {
      "text/plain": [
       "Event.Id                  0.0\n",
       "Event.Date                0.0\n",
       "Aircraft.damage           0.0\n",
       "Aircraft.Category         0.0\n",
       "Make                      0.0\n",
       "Model                     0.0\n",
       "Number.of.Engines         0.0\n",
       "Engine.Type               0.0\n",
       "Total.Fatal.Injuries      0.0\n",
       "Total.Serious.Injuries    0.0\n",
       "Total.Minor.Injuries      0.0\n",
       "Total.Uninjured           0.0\n",
       "Broad.phase.of.flight     0.0\n",
       "dtype: float64"
      ]
     },
     "execution_count": 39,
     "metadata": {},
     "output_type": "execute_result"
    }
   ],
   "source": [
    "df.isna().mean()*100"
   ]
  },
  {
   "cell_type": "markdown",
   "id": "73b4261c-f124-4fc8-b1ff-43a20f6cd919",
   "metadata": {},
   "source": [
    "Adding a new Year column which will allow us to perform yearly analysis and calculations later on "
   ]
  },
  {
   "cell_type": "code",
   "execution_count": 41,
   "id": "8b446e73-1e56-40b3-9473-c75d8278e5cb",
   "metadata": {
    "tags": []
   },
   "outputs": [],
   "source": [
    "#creating a new column for Total injuries for easier anlysis\n",
    "df[\"Total.Injuries\"] = (df[\"Total.Fatal.Injuries\"]+df[\"Total.Minor.Injuries\"]+df[\"Total.Serious.Injuries\"])"
   ]
  },
  {
   "cell_type": "code",
   "execution_count": 351,
   "id": "b8dabe50-c73d-47f5-80c7-80603e686baf",
   "metadata": {
    "tags": []
   },
   "outputs": [],
   "source": [
    "df['Year'] = df['Event.Date'].dt.year"
   ]
  },
  {
   "cell_type": "code",
   "execution_count": 353,
   "id": "447de472-2786-4993-9fc4-50990e6f112e",
   "metadata": {
    "tags": []
   },
   "outputs": [
    {
     "data": {
      "text/plain": [
       "0    1948\n",
       "1    1962\n",
       "2    1974\n",
       "3    1977\n",
       "5    1979\n",
       "Name: Year, dtype: int32"
      ]
     },
     "execution_count": 353,
     "metadata": {},
     "output_type": "execute_result"
    }
   ],
   "source": [
    "df[\"Year\"].head()"
   ]
  },
  {
   "cell_type": "code",
   "execution_count": 361,
   "id": "2c9aaef6-55ef-49dc-8353-8afcc07c9522",
   "metadata": {
    "tags": []
   },
   "outputs": [],
   "source": [
    "df = df[df['Year']>=1982]"
   ]
  },
  {
   "cell_type": "markdown",
   "id": "fe98a5ff-9b61-4fa6-9eaf-f621d826a177",
   "metadata": {
    "tags": []
   },
   "source": [
    "As seen eariler columns like `Event.Date`  may need their data types changed to the `datetime` data type for later  analysis"
   ]
  },
  {
   "cell_type": "code",
   "execution_count": 55,
   "id": "c3054c15-4275-45e5-956e-390f50c1ac63",
   "metadata": {
    "tags": []
   },
   "outputs": [
    {
     "data": {
      "text/plain": [
       "0   1948-10-24\n",
       "1   1962-07-19\n",
       "2   1974-08-30\n",
       "3   1977-06-19\n",
       "5   1979-09-17\n",
       "Name: Event.Date, dtype: datetime64[ns]"
      ]
     },
     "execution_count": 55,
     "metadata": {},
     "output_type": "execute_result"
    }
   ],
   "source": [
    "#changeing Event.Date to Datetime datatype\n",
    "df['Event.Date'] = pd.to_datetime(df['Event.Date'], dayfirst=True)\n",
    "#Checking if changes are made\n",
    "df['Event.Date'].head()"
   ]
  },
  {
   "cell_type": "code",
   "execution_count": null,
   "id": "bb44d9d2-c9f1-4cef-a7fd-2ccd1fe8a7d6",
   "metadata": {
    "tags": []
   },
   "outputs": [],
   "source": []
  },
  {
   "cell_type": "markdown",
   "id": "8c1beecc-f050-4864-9841-e5d7c33a0f6c",
   "metadata": {
    "tags": []
   },
   "source": [
    "## Data Analysis"
   ]
  },
  {
   "cell_type": "markdown",
   "id": "c26291be-428b-44ba-9f28-7b9e2880a483",
   "metadata": {
    "tags": []
   },
   "source": [
    "**Now that the data has been cleaned and validated it is time for analysing the data which will be doen in three steps**"
   ]
  },
  {
   "cell_type": "code",
   "execution_count": 134,
   "id": "85d157db-874d-4f48-89e6-014db708999f",
   "metadata": {
    "tags": []
   },
   "outputs": [
    {
     "data": {
      "text/plain": [
       "Make\n",
       "cessna    25652\n",
       "piper     14075\n",
       "beech      4970\n",
       "bell       2366\n",
       "boeing     1536\n",
       "Name: count, dtype: int64"
      ]
     },
     "execution_count": 134,
     "metadata": {},
     "output_type": "execute_result"
    }
   ],
   "source": [
    "df['Make'].value_counts().head(5)"
   ]
  },
  {
   "cell_type": "code",
   "execution_count": 76,
   "id": "a8e3f5d0-594c-45d0-bfdd-7495590d3eae",
   "metadata": {
    "tags": []
   },
   "outputs": [],
   "source": [
    "def get_make(make):\n",
    "    \n",
    "    if make in ['cessna','piper','beech', 'bell']:\n",
    "        return make \n",
    "    else:\n",
    "        return 'OTHER'"
   ]
  },
  {
   "cell_type": "code",
   "execution_count": 78,
   "id": "3a720b99-685f-4029-a88f-4c3c04433542",
   "metadata": {
    "tags": []
   },
   "outputs": [],
   "source": [
    "df['Make.simplified'] = df['Make'].apply(get_make)"
   ]
  },
  {
   "cell_type": "code",
   "execution_count": 126,
   "id": "8f09f425-ff22-49fd-b876-d5c1f9b4ff3d",
   "metadata": {
    "tags": []
   },
   "outputs": [
    {
     "data": {
      "text/plain": [
       "<Figure size 1400x600 with 0 Axes>"
      ]
     },
     "metadata": {},
     "output_type": "display_data"
    },
    {
     "data": {
      "image/png": "[encoded data removed]",
      "text/plain": [
       "<Figure size 500x500 with 1 Axes>"
      ]
     },
     "metadata": {},
     "output_type": "display_data"
    }
   ],
   "source": [
    "plt.figure(figsize=(14, 6))\n",
    "ax = sns.displot(df['Make.simplified'])\n",
    "ax.set_xlabels('Aircraft Make')\n",
    "ax.set_ylabels('Total Accidents');"
   ]
  },
  {
   "cell_type": "code",
   "execution_count": 102,
   "id": "00468287-7eab-42dc-88ff-4b784592c36b",
   "metadata": {
    "tags": []
   },
   "outputs": [],
   "source": [
    "def category(purpose):\n",
    "    if purpose == 'Airplane':\n",
    "        return 'Airplane'\n",
    "    \n",
    "    else:\n",
    "        return 'other'"
   ]
  },
  {
   "cell_type": "code",
   "execution_count": 52,
   "id": "0ee4173c-98d7-4c59-9a66-77dddac20b33",
   "metadata": {
    "tags": []
   },
   "outputs": [],
   "source": [
    "df['Aircraft.Category.simple'] =df['Aircraft.Category'].apply(category)"
   ]
  },
  {
   "cell_type": "code",
   "execution_count": 128,
   "id": "212cc8e4-6ef2-4593-80df-9e970941e6ab",
   "metadata": {
    "tags": []
   },
   "outputs": [
    {
     "data": {
      "image/png": "[encoded data removed]",
      "text/plain": [
       "<Figure size 500x500 with 1 Axes>"
      ]
     },
     "metadata": {},
     "output_type": "display_data"
    }
   ],
   "source": [
    "sns.displot(df['Aircraft.Category.simple'])\n",
    "ax.set_xlabels('Aircraft Category')\n",
    "ax.set_ylabels('Total Accidents');"
   ]
  },
  {
   "cell_type": "code",
   "execution_count": 279,
   "id": "f0370fe3-0e98-4660-afbb-e2336b4125c1",
   "metadata": {
    "tags": []
   },
   "outputs": [],
   "source": [
    "def get_model(model):\n",
    "    \n",
    "    if model in ['152','172','172N', 'PA-28-140', '150','172M','172P','180','182','150M']:\n",
    "        return model \n",
    "    "
   ]
  },
  {
   "cell_type": "code",
   "execution_count": 343,
   "id": "3334703f-a6f6-4bc5-9a0e-d398205604e4",
   "metadata": {
    "tags": []
   },
   "outputs": [],
   "source": [
    "df['Model.simple'] =df['Model'].apply(get_model)  "
   ]
  },
  {
   "cell_type": "code",
   "execution_count": 283,
   "id": "1567128c-04d6-4353-ab0e-4535b75ae923",
   "metadata": {
    "tags": []
   },
   "outputs": [
    {
     "data": {
      "image/png": "[encoded data removed]",
      "text/plain": [
       "<Figure size 500x500 with 1 Axes>"
      ]
     },
     "metadata": {},
     "output_type": "display_data"
    }
   ],
   "source": [
    "sns.displot(df['Model.simple'])\n",
    "ax.set_xlabels('Aircraft Category')\n",
    "ax.set_ylabels('Total Accidents');"
   ]
  },
  {
   "cell_type": "code",
   "execution_count": 323,
   "id": "64c7ca60-de44-4b1e-a6b4-fa417a0d836f",
   "metadata": {
    "tags": []
   },
   "outputs": [
    {
     "data": {
      "text/plain": [
       "Engine.Type\n",
       "Reciprocating    69004\n",
       "Turbo Shaft       3528\n",
       "Turbo Prop        3324\n",
       "Turbo Fan         2376\n",
       "Unknown            772\n",
       "Name: count, dtype: int64"
      ]
     },
     "execution_count": 323,
     "metadata": {},
     "output_type": "execute_result"
    }
   ],
   "source": [
    "df['Engine.Type'].value_counts().head()\n"
   ]
  },
  {
   "cell_type": "code",
   "execution_count": 337,
   "id": "907b1ad2-f8ac-4bb5-90b1-413224fc430e",
   "metadata": {
    "tags": []
   },
   "outputs": [],
   "source": [
    "def get_engine(engine):\n",
    "    \n",
    "    if engine in ['Reciprocating','Turbo Shaft','Turbo Prop','Turbo fan','Unknown' ]:\n",
    "        return engine "
   ]
  },
  {
   "cell_type": "code",
   "execution_count": 339,
   "id": "1541c0ad-7982-40c1-8469-dee6829fce19",
   "metadata": {
    "tags": []
   },
   "outputs": [],
   "source": [
    "df['Engine.Type.simple'] = df['Engine.Type'].apply(get_engine)"
   ]
  },
  {
   "cell_type": "code",
   "execution_count": 341,
   "id": "e6c31a05-0b81-46b1-8bb6-462a7b0c3092",
   "metadata": {
    "tags": []
   },
   "outputs": [
    {
     "data": {
      "text/plain": [
       "''"
      ]
     },
     "execution_count": 341,
     "metadata": {},
     "output_type": "execute_result"
    },
    {
     "data": {
      "image/png": "[encoded data removed]",
      "text/plain": [
       "<Figure size 500x500 with 1 Axes>"
      ]
     },
     "metadata": {},
     "output_type": "display_data"
    }
   ],
   "source": [
    "sns.displot(df['Engine.Type.simple'])\n",
    "ax.set_xlabels('Aircraft Category')\n",
    "ax.set_ylabels('Total Accidents')\n",
    ";\n"
   ]
  },
  {
   "cell_type": "code",
   "execution_count": null,
   "id": "80fb6dd2-334e-4491-a887-2a71ddc7b12c",
   "metadata": {},
   "outputs": [],
   "source": []
  },
  {
   "cell_type": "code",
   "execution_count": null,
   "id": "8303832c-997d-47d8-8536-42bb8dfaed8e",
   "metadata": {},
   "outputs": [],
   "source": []
  },
  {
   "cell_type": "code",
   "execution_count": null,
   "id": "3600a87a-0ee2-4fcf-a0aa-9de1b8c4ac3e",
   "metadata": {},
   "outputs": [],
   "source": []
  },
  {
   "cell_type": "code",
   "execution_count": null,
   "id": "21f5f04e-83c4-416c-b039-7262ca28e593",
   "metadata": {},
   "outputs": [],
   "source": []
  },
  {
   "cell_type": "code",
   "execution_count": null,
   "id": "8630dbbc-2b2f-4593-8106-0696c281d549",
   "metadata": {},
   "outputs": [],
   "source": []
  },
  {
   "cell_type": "code",
   "execution_count": null,
   "id": "d5bb1cbc-3429-4e1a-8870-d2ca69c6002f",
   "metadata": {},
   "outputs": [],
   "source": []
  },
  {
   "cell_type": "code",
   "execution_count": null,
   "id": "59e169c4-1df9-4139-b2c8-8b2aa54d5c96",
   "metadata": {},
   "outputs": [],
   "source": []
  },
  {
   "cell_type": "code",
   "execution_count": null,
   "id": "662477ba-6fb6-4634-8493-7e87830e3255",
   "metadata": {},
   "outputs": [],
   "source": []
  },
  {
   "cell_type": "code",
   "execution_count": null,
   "id": "039dd5fd-4147-4928-ad82-2356d5667683",
   "metadata": {},
   "outputs": [],
   "source": []
  },
  {
   "cell_type": "code",
   "execution_count": null,
   "id": "bee7b57b-69c1-41c7-8e13-11371f30ea5c",
   "metadata": {},
   "outputs": [],
   "source": []
  },
  {
   "cell_type": "code",
   "execution_count": null,
   "id": "306185f3-6cfb-4265-904e-57bb0150a84a",
   "metadata": {},
   "outputs": [],
   "source": []
  },
  {
   "cell_type": "code",
   "execution_count": null,
   "id": "5d20a205-ccd8-4858-a828-add6cd12f9c8",
   "metadata": {},
   "outputs": [],
   "source": []
  },
  {
   "cell_type": "code",
   "execution_count": null,
   "id": "342885bf-3b23-44b1-bd7e-b50d5a4ea2e2",
   "metadata": {},
   "outputs": [],
   "source": []
  },
  {
   "cell_type": "code",
   "execution_count": null,
   "id": "09d8e76a-e737-4b0a-9742-e398afc75a0a",
   "metadata": {},
   "outputs": [],
   "source": []
  },
  {
   "cell_type": "code",
   "execution_count": 54,
   "id": "fd504a8f-c560-42cb-9e52-7b6bfb8b1ae7",
   "metadata": {
    "tags": []
   },
   "outputs": [
    {
     "ename": "SyntaxError",
     "evalue": "invalid syntax (1581804619.py, line 1)",
     "output_type": "error",
     "traceback": [
      "\u001b[0;36m  Cell \u001b[0;32mIn[54], line 1\u001b[0;36m\u001b[0m\n\u001b[0;31m    df =\u001b[0m\n\u001b[0m         ^\u001b[0m\n\u001b[0;31mSyntaxError\u001b[0m\u001b[0;31m:\u001b[0m invalid syntax\n"
     ]
    }
   ],
   "source": [
    "df = "
   ]
  },
  {
   "cell_type": "code",
   "execution_count": null,
   "id": "9f65b9ed-d70a-49d6-bc8c-4bafcaf1988c",
   "metadata": {},
   "outputs": [],
   "source": []
  },
  {
   "cell_type": "code",
   "execution_count": null,
   "id": "54908f2f-089d-4429-b5b1-e6d732568061",
   "metadata": {
    "tags": []
   },
   "outputs": [],
   "source": []
  },
  {
   "cell_type": "markdown",
   "id": "c094dd1f-9f16-4985-b7b3-3b33562d5444",
   "metadata": {},
   "source": [
    "### Univariate Analysis\n"
   ]
  },
  {
   "cell_type": "code",
   "execution_count": null,
   "id": "19f35853-ddec-4176-913e-0600539c9763",
   "metadata": {
    "tags": []
   },
   "outputs": [],
   "source": [
    "accidents_Make = df.groupby(['Make'])[\"Event.Id\"].count().reset_index(name=\"Number of Accidents\")\n",
    "accidents_Make['Make'].value_counts()"
   ]
  },
  {
   "cell_type": "code",
   "execution_count": null,
   "id": "11d9f30c-f2bd-458a-8356-0f37ccc89c59",
   "metadata": {
    "tags": []
   },
   "outputs": [],
   "source": [
    "plt.figure(figsize=(14, 6))\n",
    "sns.countplot(df['Make.simplified'])"
   ]
  },
  {
   "cell_type": "code",
   "execution_count": null,
   "id": "376142a5-c97e-41a5-9b1b-779a617e1be2",
   "metadata": {
    "tags": []
   },
   "outputs": [],
   "source": []
  },
  {
   "cell_type": "markdown",
   "id": "ce298ade-6ee0-4a52-b35b-36bb0f24629e",
   "metadata": {},
   "source": [
    "### Bivariate Analysis\n"
   ]
  },
  {
   "cell_type": "markdown",
   "id": "a4b139da-4da5-40c5-bda6-776ec2bb734e",
   "metadata": {},
   "source": [
    "In this step of the analysis the goal will be to look at how two variables interact with eachother"
   ]
  },
  {
   "cell_type": "code",
   "execution_count": 228,
   "id": "4121b365-9335-44a5-b3da-9f3cea3cc859",
   "metadata": {},
   "outputs": [
    {
     "data": {
      "image/png": "[encoded data removed]",
      "text/plain": [
       "<Figure size 1000x400 with 1 Axes>"
      ]
     },
     "metadata": {},
     "output_type": "display_data"
    }
   ],
   "source": [
    "# Group the data by Make and calculate the sum of Total.Fatal.Injuries for each Make\n",
    "fatal_injuries_by_make = df.groupby('Make')['Total.Injuries'].sum()\n",
    "\n",
    "fig, ax = plt.subplots( figsize=(10,4))\n",
    "# Convert the groupby result to a DataFrame for easier sorting\n",
    "fatal_injuries_by_make = fatal_injuries_by_make.reset_index()\n",
    "\n",
    "# Sort the DataFrame by Total.Fatal.Injuries to find the top 10 makes\n",
    "top_10_makes = fatal_injuries_by_make.sort_values(by='Total.Injuries', ascending=False).head(10)\n",
    "\n",
    "\n",
    "#create the bar chart \n",
    "ax.bar(top_10_makes['Make'], top_10_makes['Total.Injuries'])\n",
    "ax.set_title('Total Injuries by Top 10 Makes')\n",
    "ax.set_xlabel('Make')\n",
    "ax.set_ylabel('Total Injuries')\n",
    "ax.set_xticklabels(top_10_makes['Make'],rotation=70)\n",
    "ax.grid(axis='y') ;\n"
   ]
  },
  {
   "cell_type": "code",
   "execution_count": 230,
   "id": "bde60f13-3565-47ad-b3b8-fc1c662b7781",
   "metadata": {},
   "outputs": [
    {
     "data": {
      "image/png": "[encoded data removed]",
      "text/plain": [
       "<Figure size 1000x400 with 1 Axes>"
      ]
     },
     "metadata": {},
     "output_type": "display_data"
    }
   ],
   "source": [
    "# Group the data by Make and calculate the sum of Total.Fatal.Injuries for each Make\n",
    "fatal_injuries_by_make = df.groupby('Model')['Total.Injuries'].sum()\n",
    "\n",
    "fig, ax = plt.subplots( figsize=(10,4))\n",
    "# Convert the groupby result to a DataFrame for easier sorting\n",
    "fatal_injuries_by_model = fatal_injuries_by_make.reset_index()\n",
    "\n",
    "# Sort the DataFrame by Total.Fatal.Injuries to find the top 10 makes\n",
    "top_10_model = fatal_injuries_by_model.sort_values(by='Total.Injuries', ascending=False).head(10)\n",
    "\n",
    "\n",
    "#create the bar chart \n",
    "ax.bar(top_10_model['Model'], top_10_model['Total.Injuries'])\n",
    "ax.set_title('Total Injuries by Top 10 Model')\n",
    "ax.set_xlabel('Model')\n",
    "ax.set_ylabel('Total Injuries')\n",
    "ax.grid(axis='y') ;"
   ]
  },
  {
   "cell_type": "code",
   "execution_count": 232,
   "id": "aba5fcad-1a10-43a2-8c8f-2f110ffe34d1",
   "metadata": {},
   "outputs": [
    {
     "data": {
      "image/png": "[encoded data removed]",
      "text/plain": [
       "<Figure size 1000x400 with 1 Axes>"
      ]
     },
     "metadata": {},
     "output_type": "display_data"
    }
   ],
   "source": [
    "# Group the data by Make and calculate the sum of Total.Fatal.Injuries for each Make\n",
    "fatal_injuries_by_no_engines = df.groupby('Number.of.Engines')['Total.Injuries'].sum()\n",
    "\n",
    "fig, ax = plt.subplots( figsize=(10,4))\n",
    "# Convert the groupby result to a DataFrame for easier sorting\n",
    "fatal_injuries_by_no_engines = fatal_injuries_by_no_engines.reset_index()\n",
    "\n",
    "# Sort the DataFrame by Total.Fatal.Injuries to find the top 10 makes\n",
    "top_10_engines = fatal_injuries_by_no_engines.sort_values(by='Total.Injuries', ascending=False).head()\n",
    "\n",
    "\n",
    "#create the bar chart \n",
    "ax.bar(top_10_engines['Number.of.Engines'], top_10_engines['Total.Injuries'])\n",
    "ax.set_title('Total Injuries by Number of Engines')\n",
    "ax.set_xlabel('Number.of.Engines')\n",
    "ax.set_ylabel('Total Injuries')\n",
    "ax.grid(axis='y') ;"
   ]
  },
  {
   "cell_type": "code",
   "execution_count": null,
   "id": "654e0017-79a0-4fc8-af7d-a3937165ce23",
   "metadata": {},
   "outputs": [],
   "source": []
  },
  {
   "cell_type": "code",
   "execution_count": 375,
   "id": "713e8a67-9a66-458b-9d9f-0cdd37a1015b",
   "metadata": {},
   "outputs": [
    {
     "data": {
      "image/png": "[encoded data removed]",
      "text/plain": [
       "<Figure size 1000x400 with 1 Axes>"
      ]
     },
     "metadata": {},
     "output_type": "display_data"
    }
   ],
   "source": [
    "# Group the data by Make and calculate the sum of Total.Fatal.Injuries for each Make\n",
    "fatal_uninjured_by_make = df.groupby('Make')['Total.Uninjured'].sum()\n",
    "\n",
    "fig, ax = plt.subplots( figsize=(10,4))\n",
    "# Convert the groupby result to a DataFrame for easier sorting\n",
    "fatal_uninjured_by_make = fatal_uninjured_by_make.reset_index()\n",
    "\n",
    "# Sort the DataFrame by Total.Fatal.Injuries to find the top 10 makes\n",
    "top_10_makes = fatal_uninjured_by_make.sort_values(by='Total.Uninjured', ascending=False).head(10)\n",
    "\n",
    "\n",
    "#create the bar chart \n",
    "ax.bar(top_10_makes['Make'], top_10_makes['Total.Uninjured'])\n",
    "ax.set_title('Total uninjured by Top 10 Makes')\n",
    "ax.set_xlabel('Make')\n",
    "ax.set_ylabel('Total Uninjured')\n",
    "ax.set_xticklabels(top_10_makes['Make'],rotation=70)\n",
    "ax.grid(axis='y') ;\n"
   ]
  },
  {
   "cell_type": "code",
   "execution_count": 384,
   "id": "71488568-356b-4246-9bb0-3664c9186464",
   "metadata": {},
   "outputs": [
    {
     "data": {
      "text/html": [
       "<div>\n",
       "<style scoped>\n",
       "    .dataframe tbody tr th:only-of-type {\n",
       "        vertical-align: middle;\n",
       "    }\n",
       "\n",
       "    .dataframe tbody tr th {\n",
       "        vertical-align: top;\n",
       "    }\n",
       "\n",
       "    .dataframe thead th {\n",
       "        text-align: right;\n",
       "    }\n",
       "</style>\n",
       "<table border=\"1\" class=\"dataframe\">\n",
       "  <thead>\n",
       "    <tr style=\"text-align: right;\">\n",
       "      <th></th>\n",
       "      <th>Year</th>\n",
       "      <th>Number of Accidents</th>\n",
       "    </tr>\n",
       "  </thead>\n",
       "  <tbody>\n",
       "    <tr>\n",
       "      <th>0</th>\n",
       "      <td>1982</td>\n",
       "      <td>3590</td>\n",
       "    </tr>\n",
       "    <tr>\n",
       "      <th>1</th>\n",
       "      <td>1983</td>\n",
       "      <td>3496</td>\n",
       "    </tr>\n",
       "    <tr>\n",
       "      <th>2</th>\n",
       "      <td>1984</td>\n",
       "      <td>3408</td>\n",
       "    </tr>\n",
       "    <tr>\n",
       "      <th>3</th>\n",
       "      <td>1985</td>\n",
       "      <td>3061</td>\n",
       "    </tr>\n",
       "    <tr>\n",
       "      <th>4</th>\n",
       "      <td>1986</td>\n",
       "      <td>2823</td>\n",
       "    </tr>\n",
       "  </tbody>\n",
       "</table>\n",
       "</div>"
      ],
      "text/plain": [
       "   Year  Number of Accidents\n",
       "0  1982                 3590\n",
       "1  1983                 3496\n",
       "2  1984                 3408\n",
       "3  1985                 3061\n",
       "4  1986                 2823"
      ]
     },
     "execution_count": 384,
     "metadata": {},
     "output_type": "execute_result"
    }
   ],
   "source": [
    "accidents_year = df.groupby(['Year'])[\"Event.Id\"].count().reset_index(name=\"Number of Accidents\")\n",
    "accidents_year.head()"
   ]
  },
  {
   "cell_type": "code",
   "execution_count": 404,
   "id": "411ecac1-8bbb-4dd2-95ac-f6f161597012",
   "metadata": {
    "tags": []
   },
   "outputs": [
    {
     "data": {
      "text/plain": [
       "''"
      ]
     },
     "execution_count": 404,
     "metadata": {},
     "output_type": "execute_result"
    },
    {
     "data": {
      "image/png": "[encoded data removed]",
      "text/plain": [
       "<Figure size 1000x500 with 1 Axes>"
      ]
     },
     "metadata": {},
     "output_type": "display_data"
    }
   ],
   "source": [
    "fig, ax = plt.subplots(figsize= (10,5))\n",
    "ax.plot(accidents_year['Year'], accidents_year['Number of Accidents'])\n",
    "ax.set_title('Total accidents by year')\n",
    "ax.set_xlabel('Year')\n",
    "ax.set_ylabel('Total accidents')\n",
    ";"
   ]
  },
  {
   "cell_type": "markdown",
   "id": "576fa610-62d7-4ee1-b602-e12dbbda7700",
   "metadata": {},
   "source": [
    "### multivariate Analysis"
   ]
  },
  {
   "cell_type": "code",
   "execution_count": null,
   "id": "bf96adf1-370a-488f-98a6-0c765dad28f7",
   "metadata": {
    "tags": []
   },
   "outputs": [],
   "source": [
    "numerical_df = df.select_dtypes(include=[float, int])\n",
    "\n",
    "# Calculate the correlation matrix\n",
    "correlation_matrix = numerical_df.corr()\n",
    "dataplot = sns.heatmap(correlation_matrix, cmap=\"YlGnBu\", annot=True) \n"
   ]
  },
  {
   "cell_type": "code",
   "execution_count": 239,
   "id": "b4b2deae-6751-4e86-9f91-440ed4b520c6",
   "metadata": {},
   "outputs": [],
   "source": [
    "df.to_csv('AvaitionDataClean.xlsx', index=False)"
   ]
  },
  {
   "cell_type": "code",
   "execution_count": null,
   "id": "9f7dfa5b-9a64-42af-8a5d-6d72a365cf4f",
   "metadata": {},
   "outputs": [],
   "source": []
  },
  {
   "cell_type": "code",
   "execution_count": null,
   "id": "8512e5f7-133a-4a3a-8f6c-a0fd8774ed7c",
   "metadata": {},
   "outputs": [],
   "source": []
  },
  {
   "cell_type": "code",
   "execution_count": null,
   "id": "a257a7da-df65-4618-b60a-6d49f69d18a8",
   "metadata": {},
   "outputs": [],
   "source": []
  },
  {
   "cell_type": "code",
   "execution_count": null,
   "id": "618f7067-0b8a-42eb-bcef-3e981322c373",
   "metadata": {},
   "outputs": [],
   "source": []
  },
  {
   "cell_type": "markdown",
   "id": "af5e8c4b-a24a-4b25-9d20-db6f26ffddbd",
   "metadata": {},
   "source": [
    "## Conclusions"
   ]
  },
  {
   "cell_type": "markdown",
   "id": "88668542-e7de-4111-ae4b-72758df9b468",
   "metadata": {},
   "source": [
    "## reccomandations"
   ]
  },
  {
   "cell_type": "code",
   "execution_count": null,
   "id": "27b08cdf-a4c6-4de1-81b8-c3fe73062d70",
   "metadata": {},
   "outputs": [],
   "source": []
  },
  {
   "cell_type": "code",
   "execution_count": null,
   "id": "2a19b9ea-197d-45db-9c93-50396961f57e",
   "metadata": {},
   "outputs": [],
   "source": []
  },
  {
   "cell_type": "code",
   "execution_count": null,
   "id": "2ac812a1-d643-401f-a203-3effdf0ec759",
   "metadata": {},
   "outputs": [],
   "source": []
  },
  {
   "cell_type": "code",
   "execution_count": null,
   "id": "eae66dcb-4d1e-41c3-9a5b-5556972970eb",
   "metadata": {},
   "outputs": [],
   "source": []
  },
  {
   "cell_type": "code",
   "execution_count": null,
   "id": "8cad4510-cd0c-4a8e-9c1c-fe37c07ab1c2",
   "metadata": {},
   "outputs": [],
   "source": []
  }
 ],
 "metadata": {
  "kernelspec": {
   "display_name": "Python 3 (ipykernel)",
   "language": "python",
   "name": "python3"
  },
  "language_info": {
   "codemirror_mode": {
    "name": "ipython",
    "version": 3
   },
   "file_extension": ".py",
   "mimetype": "text/x-python",
   "name": "python",
   "nbconvert_exporter": "python",
   "pygments_lexer": "ipython3",
   "version": "3.8.19"
  },
  "toc-showmarkdowntxt": false
 },
 "nbformat": 4,
 "nbformat_minor": 5
}
